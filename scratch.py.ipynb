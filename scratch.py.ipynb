{
 "cells": [
  {
   "cell_type": "code",
   "execution_count": 1,
   "id": "b6ce0f3d",
   "metadata": {},
   "outputs": [],
   "source": [
    "import json"
   ]
  },
  {
   "cell_type": "code",
   "execution_count": 2,
   "id": "7e5d3f75",
   "metadata": {},
   "outputs": [],
   "source": [
    "with open(\"prompts.json\") as f:\n",
    "    ps = json.load(f)"
   ]
  },
  {
   "cell_type": "code",
   "execution_count": 4,
   "id": "1d33cee7",
   "metadata": {},
   "outputs": [
    {
     "name": "stdout",
     "output_type": "stream",
     "text": [
      "Email: lmao\n",
      "\n",
      "Does this email describe an event with free food? Answer with \"True\" or \"False\" only\n"
     ]
    }
   ],
   "source": [
    "print(ps[\"is_ff_event\"].format(email=\"lmao\"))"
   ]
  },
  {
   "cell_type": "code",
   "execution_count": 13,
   "id": "cab9343a",
   "metadata": {},
   "outputs": [],
   "source": [
    "msg1_template = \"\"\"You are a JSON utility built to extract structured information from documents. You can only return JSON. JSON must match the typescript type FieldsResultObject.\n",
    "type FieldResult = {{\n",
    "  value: string | number | boolean | Date | null;\n",
    "  source: string;\n",
    "  confidence: number;\n",
    "}};\n",
    "\n",
    "type FieldsResultObject = {{\n",
    "  [key: string]: FieldResult;\n",
    "}};\n",
    "\n",
    "Only extract a value if you are very confident. There may not be a value for each field. If you cannot find a value for a field than in the fieldResult object for that field set the value to be null and confidence to be 0.\n",
    "Return a detailed confidence score between 0 and 1. 0.0 means not confident and 1.0 means very confident.\n",
    "\n",
    "Here are the fields you are extracting. Only extract these fields. Do not extract any other fields from this document.\n",
    "----\n",
    "{stringFields}\n",
    "\"\"\"\n",
    "msg2_template = \"\"\"Extract the fields from this document. Return the most relevant text to the classification in the source field. Source should be exact words from the following document and less than 100 characters. Keep source short.\n",
    "----\n",
    "{document}\n",
    "----\n",
    "\n",
    "Ok, here is the JSON for FieldsResultObject and nothing else:`,\n",
    "\"\"\""
   ]
  },
  {
   "cell_type": "code",
   "execution_count": 11,
   "id": "00ee0e62",
   "metadata": {},
   "outputs": [
    {
     "name": "stdout",
     "output_type": "stream",
     "text": [
      "You are a JSON utility built to extract structured information from documents. You can only return JSON. JSON must match the typescript type FieldsResultObject.\n",
      "type FieldResult = {{\n",
      "  value: string | number | boolean | Date | null;\n",
      "  source: string;\n",
      "  confidence: number;\n",
      "}};\n",
      "\n",
      "type FieldsResultObject = {{\n",
      "  [key: string]: FieldResult;\n",
      "}};\n",
      "\n",
      "Only extract a value if you are very confident. There may not be a value for each field. If you cannot find a value for a field than in the fieldResult object for that field set the value to be null and confidence to be 0.\n",
      "Return a detailed confidence score between 0 and 1. 0.0 means not confident and 1.0 means very confident.\n",
      "\n",
      "Here are the fields you are extracting. Only extract these fields. Do not extract any other fields from this document.\n",
      "----\n",
      "{stringFields}\n",
      "\n"
     ]
    }
   ],
   "source": [
    "print(msg1_template)"
   ]
  },
  {
   "cell_type": "code",
   "execution_count": 17,
   "id": "7e02da60",
   "metadata": {},
   "outputs": [],
   "source": [
    "import pytz"
   ]
  },
  {
   "cell_type": "code",
   "execution_count": 18,
   "id": "4a6206b9",
   "metadata": {},
   "outputs": [
    {
     "ename": "UnknownTimeZoneError",
     "evalue": "'local'",
     "output_type": "error",
     "traceback": [
      "\u001b[0;31m---------------------------------------------------------------------------\u001b[0m",
      "\u001b[0;31mUnknownTimeZoneError\u001b[0m                      Traceback (most recent call last)",
      "Input \u001b[0;32mIn [18]\u001b[0m, in \u001b[0;36m<cell line: 1>\u001b[0;34m()\u001b[0m\n\u001b[0;32m----> 1\u001b[0m current_tz \u001b[38;5;241m=\u001b[39m \u001b[43mpytz\u001b[49m\u001b[38;5;241;43m.\u001b[39;49m\u001b[43mtimezone\u001b[49m\u001b[43m(\u001b[49m\u001b[38;5;124;43m'\u001b[39;49m\u001b[38;5;124;43mlocal\u001b[39;49m\u001b[38;5;124;43m'\u001b[39;49m\u001b[43m)\u001b[49m\n",
      "File \u001b[0;32m~/.pyenv/versions/3.9.11/lib/python3.9/site-packages/pytz/__init__.py:188\u001b[0m, in \u001b[0;36mtimezone\u001b[0;34m(zone)\u001b[0m\n\u001b[1;32m    186\u001b[0m             fp\u001b[38;5;241m.\u001b[39mclose()\n\u001b[1;32m    187\u001b[0m     \u001b[38;5;28;01melse\u001b[39;00m:\n\u001b[0;32m--> 188\u001b[0m         \u001b[38;5;28;01mraise\u001b[39;00m UnknownTimeZoneError(zone)\n\u001b[1;32m    190\u001b[0m \u001b[38;5;28;01mreturn\u001b[39;00m _tzinfo_cache[zone]\n",
      "\u001b[0;31mUnknownTimeZoneError\u001b[0m: 'local'"
     ]
    }
   ],
   "source": [
    "current_tz = pytz.timezone('local')"
   ]
  },
  {
   "cell_type": "code",
   "execution_count": 19,
   "id": "46f71b22",
   "metadata": {},
   "outputs": [],
   "source": [
    "from dateutil.tz import tzlocal"
   ]
  },
  {
   "cell_type": "code",
   "execution_count": 21,
   "id": "9b1d489e",
   "metadata": {},
   "outputs": [
    {
     "data": {
      "text/plain": [
       "dateutil.tz.tz.tzlocal"
      ]
     },
     "execution_count": 21,
     "metadata": {},
     "output_type": "execute_result"
    }
   ],
   "source": [
    "type(tzlocal())"
   ]
  },
  {
   "cell_type": "code",
   "execution_count": 22,
   "id": "c0772220",
   "metadata": {},
   "outputs": [],
   "source": [
    "import datetime"
   ]
  },
  {
   "cell_type": "code",
   "execution_count": 27,
   "id": "55adf49c",
   "metadata": {},
   "outputs": [],
   "source": [
    "tz = datetime.datetime.now(datetime.timezone.utc).astimezone().tzinfo"
   ]
  },
  {
   "cell_type": "code",
   "execution_count": 35,
   "id": "0d0b68f7",
   "metadata": {},
   "outputs": [
    {
     "data": {
      "text/plain": [
       "datetime.timedelta(days=-1, seconds=61200)"
      ]
     },
     "execution_count": 35,
     "metadata": {},
     "output_type": "execute_result"
    }
   ],
   "source": [
    "tz.utcoffset(datetime.datetime.now())"
   ]
  },
  {
   "cell_type": "code",
   "execution_count": 41,
   "id": "047514e3",
   "metadata": {},
   "outputs": [
    {
     "data": {
      "text/plain": [
       "datetime.datetime(2023, 5, 13, 15, 45, 5, 912844)"
      ]
     },
     "execution_count": 41,
     "metadata": {},
     "output_type": "execute_result"
    }
   ],
   "source": [
    "datetime.datetime.now()"
   ]
  },
  {
   "cell_type": "code",
   "execution_count": 43,
   "id": "db1136d5",
   "metadata": {},
   "outputs": [
    {
     "name": "stdout",
     "output_type": "stream",
     "text": [
      "<class 'datetime.timezone'>\n"
     ]
    }
   ],
   "source": [
    "import time\n",
    "import datetime\n",
    "\n",
    "# Get the current timestamp in seconds since the epoch\n",
    "timestamp = time.time()\n",
    "\n",
    "# Convert the timestamp to a datetime object\n",
    "dt = datetime.datetime.fromtimestamp(timestamp)\n",
    "\n",
    "# Get the timezone information from the datetime object\n",
    "tz = dt.astimezone().tzinfo\n",
    "\n",
    "print(type(tz))  # prints the timezone information"
   ]
  },
  {
   "cell_type": "code",
   "execution_count": 12,
   "id": "d983a6e8",
   "metadata": {},
   "outputs": [
    {
     "name": "stdout",
     "output_type": "stream",
     "text": [
      "Extract the fields from this document. Return the most relevant text to the classification in the source field. Source should be exact words from the following document and less than 100 characters. Keep source short.\n",
      "----\n",
      "{{document}}\n",
      "----\n",
      "\n",
      "Ok, here is the JSON for FieldsResultObject and nothing else:`,\n",
      "\n"
     ]
    }
   ],
   "source": [
    "print(msg2_template)"
   ]
  },
  {
   "cell_type": "code",
   "execution_count": null,
   "id": "bdcc3826",
   "metadata": {},
   "outputs": [],
   "source": [
    "date"
   ]
  },
  {
   "cell_type": "code",
   "execution_count": 44,
   "id": "7faf15df",
   "metadata": {},
   "outputs": [],
   "source": [
    "import time\n",
    "from datetime import datetime\n",
    "\n",
    "import pytz # $ pip install pytz\n",
    "from tzlocal import get_localzone # $ pip install tzlocal\n",
    "\n",
    "# get local timezone    \n",
    "local_tz = get_localzone() \n",
    "\n",
    "# test it\n",
    "# utc_now, now = datetime.utcnow(), datetime.now()\n",
    "ts = time.time()\n",
    "utc_now, now = datetime.utcfromtimestamp(ts), datetime.fromtimestamp(ts)\n",
    "\n",
    "local_now = utc_now.replace(tzinfo=pytz.utc).astimezone(local_tz) # utc -> local\n",
    "assert local_now.replace(tzinfo=None) == now"
   ]
  },
  {
   "cell_type": "code",
   "execution_count": 45,
   "id": "b2ae5fa6",
   "metadata": {},
   "outputs": [
    {
     "data": {
      "text/plain": [
       "datetime.datetime(2023, 5, 13, 15, 48, 41, 808467, tzinfo=_PytzShimTimezone(zoneinfo.ZoneInfo(key='America/Los_Angeles'), 'America/Los_Angeles'))"
      ]
     },
     "execution_count": 45,
     "metadata": {},
     "output_type": "execute_result"
    }
   ],
   "source": [
    "local_now"
   ]
  },
  {
   "cell_type": "code",
   "execution_count": 46,
   "id": "604aac98",
   "metadata": {},
   "outputs": [
    {
     "data": {
      "text/plain": [
       "datetime.datetime(2023, 5, 13, 22, 48, 41, 808467)"
      ]
     },
     "execution_count": 46,
     "metadata": {},
     "output_type": "execute_result"
    }
   ],
   "source": [
    "utc_now"
   ]
  },
  {
   "cell_type": "code",
   "execution_count": 47,
   "id": "f9306680",
   "metadata": {},
   "outputs": [
    {
     "data": {
      "text/plain": [
       "1684018121.808467"
      ]
     },
     "execution_count": 47,
     "metadata": {},
     "output_type": "execute_result"
    }
   ],
   "source": [
    "ts"
   ]
  }
 ],
 "metadata": {
  "kernelspec": {
   "display_name": "Python 3 (ipykernel)",
   "language": "python",
   "name": "python3"
  },
  "language_info": {
   "codemirror_mode": {
    "name": "ipython",
    "version": 3
   },
   "file_extension": ".py",
   "mimetype": "text/x-python",
   "name": "python",
   "nbconvert_exporter": "python",
   "pygments_lexer": "ipython3",
   "version": "3.9.11"
  }
 },
 "nbformat": 4,
 "nbformat_minor": 5
}
