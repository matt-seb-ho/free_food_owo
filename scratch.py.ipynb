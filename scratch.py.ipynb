{
 "cells": [
  {
   "cell_type": "code",
   "execution_count": 1,
   "id": "737c668d",
   "metadata": {},
   "outputs": [],
   "source": [
    "import json"
   ]
  },
  {
   "cell_type": "code",
   "execution_count": 2,
   "id": "781d11c0",
   "metadata": {},
   "outputs": [],
   "source": [
    "with open(\"prompts.json\") as f:\n",
    "    ps = json.load(f)"
   ]
  },
  {
   "cell_type": "code",
   "execution_count": 4,
   "id": "5f71695a",
   "metadata": {},
   "outputs": [
    {
     "name": "stdout",
     "output_type": "stream",
     "text": [
      "Email: lmao\n",
      "\n",
      "Does this email describe an event with free food? Answer with \"True\" or \"False\" only\n"
     ]
    }
   ],
   "source": [
    "print(ps[\"is_ff_event\"].format(email=\"lmao\"))"
   ]
  },
  {
   "cell_type": "code",
   "execution_count": 13,
   "id": "2afb5437",
   "metadata": {},
   "outputs": [],
   "source": [
    "msg1_template = \"\"\"You are a JSON utility built to extract structured information from documents. You can only return JSON. JSON must match the typescript type FieldsResultObject.\n",
    "type FieldResult = {{\n",
    "  value: string | number | boolean | Date | null;\n",
    "  source: string;\n",
    "  confidence: number;\n",
    "}};\n",
    "\n",
    "type FieldsResultObject = {{\n",
    "  [key: string]: FieldResult;\n",
    "}};\n",
    "\n",
    "Only extract a value if you are very confident. There may not be a value for each field. If you cannot find a value for a field than in the fieldResult object for that field set the value to be null and confidence to be 0.\n",
    "Return a detailed confidence score between 0 and 1. 0.0 means not confident and 1.0 means very confident.\n",
    "\n",
    "Here are the fields you are extracting. Only extract these fields. Do not extract any other fields from this document.\n",
    "----\n",
    "{stringFields}\n",
    "\"\"\"\n",
    "msg2_template = \"\"\"Extract the fields from this document. Return the most relevant text to the classification in the source field. Source should be exact words from the following document and less than 100 characters. Keep source short.\n",
    "----\n",
    "{document}\n",
    "----\n",
    "\n",
    "Ok, here is the JSON for FieldsResultObject and nothing else:`,\n",
    "\"\"\""
   ]
  },
  {
   "cell_type": "code",
   "execution_count": 11,
   "id": "9366b754",
   "metadata": {},
   "outputs": [
    {
     "name": "stdout",
     "output_type": "stream",
     "text": [
      "You are a JSON utility built to extract structured information from documents. You can only return JSON. JSON must match the typescript type FieldsResultObject.\n",
      "type FieldResult = {{\n",
      "  value: string | number | boolean | Date | null;\n",
      "  source: string;\n",
      "  confidence: number;\n",
      "}};\n",
      "\n",
      "type FieldsResultObject = {{\n",
      "  [key: string]: FieldResult;\n",
      "}};\n",
      "\n",
      "Only extract a value if you are very confident. There may not be a value for each field. If you cannot find a value for a field than in the fieldResult object for that field set the value to be null and confidence to be 0.\n",
      "Return a detailed confidence score between 0 and 1. 0.0 means not confident and 1.0 means very confident.\n",
      "\n",
      "Here are the fields you are extracting. Only extract these fields. Do not extract any other fields from this document.\n",
      "----\n",
      "{stringFields}\n",
      "\n"
     ]
    }
   ],
   "source": [
    "print(msg1_template)"
   ]
  },
  {
   "cell_type": "code",
   "execution_count": 12,
   "id": "cb5e6dfc",
   "metadata": {},
   "outputs": [
    {
     "name": "stdout",
     "output_type": "stream",
     "text": [
      "Extract the fields from this document. Return the most relevant text to the classification in the source field. Source should be exact words from the following document and less than 100 characters. Keep source short.\n",
      "----\n",
      "{{document}}\n",
      "----\n",
      "\n",
      "Ok, here is the JSON for FieldsResultObject and nothing else:`,\n",
      "\n"
     ]
    }
   ],
   "source": [
    "print(msg2_template)"
   ]
  },
  {
   "cell_type": "code",
   "execution_count": null,
   "id": "55ad2691",
   "metadata": {},
   "outputs": [],
   "source": []
  }
 ],
 "metadata": {
  "kernelspec": {
   "display_name": "Python 3 (ipykernel)",
   "language": "python",
   "name": "python3"
  },
  "language_info": {
   "codemirror_mode": {
    "name": "ipython",
    "version": 3
   },
   "file_extension": ".py",
   "mimetype": "text/x-python",
   "name": "python",
   "nbconvert_exporter": "python",
   "pygments_lexer": "ipython3",
   "version": "3.9.11"
  }
 },
 "nbformat": 4,
 "nbformat_minor": 5
}
